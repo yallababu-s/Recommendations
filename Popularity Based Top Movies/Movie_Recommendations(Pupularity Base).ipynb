{
 "cells": [
  {
   "cell_type": "markdown",
   "id": "3464664b-7478-4385-a232-d1a884a5c067",
   "metadata": {},
   "source": [
    "# Pupularity Bases Recommendation System\n",
    "In this project, I will prepare **Top 10 movies** based on the *user ratings* and *view count*."
   ]
  },
  {
   "cell_type": "code",
   "execution_count": 1,
   "id": "29d6a2f5-0ac0-44bc-b871-d2e0abf5b058",
   "metadata": {},
   "outputs": [],
   "source": [
    "import numpy as np\n",
    "import pandas as pd"
   ]
  },
  {
   "cell_type": "code",
   "execution_count": 2,
   "id": "5ab7d1bf-0c32-4605-9376-1673c18bbbd0",
   "metadata": {},
   "outputs": [
    {
     "data": {
      "text/html": [
       "<div>\n",
       "<style scoped>\n",
       "    .dataframe tbody tr th:only-of-type {\n",
       "        vertical-align: middle;\n",
       "    }\n",
       "\n",
       "    .dataframe tbody tr th {\n",
       "        vertical-align: top;\n",
       "    }\n",
       "\n",
       "    .dataframe thead th {\n",
       "        text-align: right;\n",
       "    }\n",
       "</style>\n",
       "<table border=\"1\" class=\"dataframe\">\n",
       "  <thead>\n",
       "    <tr style=\"text-align: right;\">\n",
       "      <th></th>\n",
       "      <th>movieId</th>\n",
       "      <th>title</th>\n",
       "      <th>genres</th>\n",
       "    </tr>\n",
       "  </thead>\n",
       "  <tbody>\n",
       "    <tr>\n",
       "      <th>0</th>\n",
       "      <td>1</td>\n",
       "      <td>Toy Story (1995)</td>\n",
       "      <td>Adventure|Animation|Children|Comedy|Fantasy</td>\n",
       "    </tr>\n",
       "    <tr>\n",
       "      <th>1</th>\n",
       "      <td>2</td>\n",
       "      <td>Jumanji (1995)</td>\n",
       "      <td>Adventure|Children|Fantasy</td>\n",
       "    </tr>\n",
       "    <tr>\n",
       "      <th>2</th>\n",
       "      <td>3</td>\n",
       "      <td>Grumpier Old Men (1995)</td>\n",
       "      <td>Comedy|Romance</td>\n",
       "    </tr>\n",
       "    <tr>\n",
       "      <th>3</th>\n",
       "      <td>4</td>\n",
       "      <td>Waiting to Exhale (1995)</td>\n",
       "      <td>Comedy|Drama|Romance</td>\n",
       "    </tr>\n",
       "    <tr>\n",
       "      <th>4</th>\n",
       "      <td>5</td>\n",
       "      <td>Father of the Bride Part II (1995)</td>\n",
       "      <td>Comedy</td>\n",
       "    </tr>\n",
       "  </tbody>\n",
       "</table>\n",
       "</div>"
      ],
      "text/plain": [
       "   movieId                               title  \\\n",
       "0        1                    Toy Story (1995)   \n",
       "1        2                      Jumanji (1995)   \n",
       "2        3             Grumpier Old Men (1995)   \n",
       "3        4            Waiting to Exhale (1995)   \n",
       "4        5  Father of the Bride Part II (1995)   \n",
       "\n",
       "                                        genres  \n",
       "0  Adventure|Animation|Children|Comedy|Fantasy  \n",
       "1                   Adventure|Children|Fantasy  \n",
       "2                               Comedy|Romance  \n",
       "3                         Comedy|Drama|Romance  \n",
       "4                                       Comedy  "
      ]
     },
     "execution_count": 2,
     "metadata": {},
     "output_type": "execute_result"
    }
   ],
   "source": [
    "movie_names = pd.read_csv('movies.csv')\n",
    "movie_names.head()"
   ]
  },
  {
   "cell_type": "code",
   "execution_count": 3,
   "id": "773dd29a-cced-41ee-a0c4-6162104814b3",
   "metadata": {},
   "outputs": [
    {
     "name": "stdout",
     "output_type": "stream",
     "text": [
      "<class 'pandas.core.frame.DataFrame'>\n",
      "RangeIndex: 9125 entries, 0 to 9124\n",
      "Data columns (total 3 columns):\n",
      " #   Column   Non-Null Count  Dtype \n",
      "---  ------   --------------  ----- \n",
      " 0   movieId  9125 non-null   int64 \n",
      " 1   title    9125 non-null   object\n",
      " 2   genres   9125 non-null   object\n",
      "dtypes: int64(1), object(2)\n",
      "memory usage: 214.0+ KB\n"
     ]
    }
   ],
   "source": [
    "movie_names.info()"
   ]
  },
  {
   "cell_type": "code",
   "execution_count": 4,
   "id": "e866b190-86b7-4e23-9e1e-a6499af2ac3c",
   "metadata": {},
   "outputs": [
    {
     "data": {
      "text/html": [
       "<div>\n",
       "<style scoped>\n",
       "    .dataframe tbody tr th:only-of-type {\n",
       "        vertical-align: middle;\n",
       "    }\n",
       "\n",
       "    .dataframe tbody tr th {\n",
       "        vertical-align: top;\n",
       "    }\n",
       "\n",
       "    .dataframe thead th {\n",
       "        text-align: right;\n",
       "    }\n",
       "</style>\n",
       "<table border=\"1\" class=\"dataframe\">\n",
       "  <thead>\n",
       "    <tr style=\"text-align: right;\">\n",
       "      <th></th>\n",
       "      <th>userId</th>\n",
       "      <th>movieId</th>\n",
       "      <th>rating</th>\n",
       "      <th>timestamp</th>\n",
       "    </tr>\n",
       "  </thead>\n",
       "  <tbody>\n",
       "    <tr>\n",
       "      <th>0</th>\n",
       "      <td>1</td>\n",
       "      <td>31</td>\n",
       "      <td>2.5</td>\n",
       "      <td>1260759144</td>\n",
       "    </tr>\n",
       "    <tr>\n",
       "      <th>1</th>\n",
       "      <td>1</td>\n",
       "      <td>1029</td>\n",
       "      <td>3.0</td>\n",
       "      <td>1260759179</td>\n",
       "    </tr>\n",
       "    <tr>\n",
       "      <th>2</th>\n",
       "      <td>1</td>\n",
       "      <td>1061</td>\n",
       "      <td>3.0</td>\n",
       "      <td>1260759182</td>\n",
       "    </tr>\n",
       "    <tr>\n",
       "      <th>3</th>\n",
       "      <td>1</td>\n",
       "      <td>1129</td>\n",
       "      <td>2.0</td>\n",
       "      <td>1260759185</td>\n",
       "    </tr>\n",
       "    <tr>\n",
       "      <th>4</th>\n",
       "      <td>1</td>\n",
       "      <td>1172</td>\n",
       "      <td>4.0</td>\n",
       "      <td>1260759205</td>\n",
       "    </tr>\n",
       "  </tbody>\n",
       "</table>\n",
       "</div>"
      ],
      "text/plain": [
       "   userId  movieId  rating   timestamp\n",
       "0       1       31     2.5  1260759144\n",
       "1       1     1029     3.0  1260759179\n",
       "2       1     1061     3.0  1260759182\n",
       "3       1     1129     2.0  1260759185\n",
       "4       1     1172     4.0  1260759205"
      ]
     },
     "execution_count": 4,
     "metadata": {},
     "output_type": "execute_result"
    }
   ],
   "source": [
    "rating_data = pd.read_csv('ratings.csv')\n",
    "rating_data.head()"
   ]
  },
  {
   "cell_type": "code",
   "execution_count": 5,
   "id": "1f8edbc8-0fe5-403e-8562-8560acbd48ce",
   "metadata": {},
   "outputs": [
    {
     "name": "stdout",
     "output_type": "stream",
     "text": [
      "<class 'pandas.core.frame.DataFrame'>\n",
      "RangeIndex: 100004 entries, 0 to 100003\n",
      "Data columns (total 4 columns):\n",
      " #   Column     Non-Null Count   Dtype  \n",
      "---  ------     --------------   -----  \n",
      " 0   userId     100004 non-null  int64  \n",
      " 1   movieId    100004 non-null  int64  \n",
      " 2   rating     100004 non-null  float64\n",
      " 3   timestamp  100004 non-null  int64  \n",
      "dtypes: float64(1), int64(3)\n",
      "memory usage: 3.1 MB\n"
     ]
    }
   ],
   "source": [
    "rating_data.info()"
   ]
  },
  {
   "cell_type": "markdown",
   "id": "1e633197-54a4-4f44-bedd-d09465cb3cb6",
   "metadata": {},
   "source": [
    "### Merge both datasets using *pd.merge* on *movieId*"
   ]
  },
  {
   "cell_type": "code",
   "execution_count": 6,
   "id": "7443edad-baa2-4a6c-b70e-46ff9de3daba",
   "metadata": {},
   "outputs": [
    {
     "data": {
      "text/html": [
       "<div>\n",
       "<style scoped>\n",
       "    .dataframe tbody tr th:only-of-type {\n",
       "        vertical-align: middle;\n",
       "    }\n",
       "\n",
       "    .dataframe tbody tr th {\n",
       "        vertical-align: top;\n",
       "    }\n",
       "\n",
       "    .dataframe thead th {\n",
       "        text-align: right;\n",
       "    }\n",
       "</style>\n",
       "<table border=\"1\" class=\"dataframe\">\n",
       "  <thead>\n",
       "    <tr style=\"text-align: right;\">\n",
       "      <th></th>\n",
       "      <th>userId</th>\n",
       "      <th>movieId</th>\n",
       "      <th>rating</th>\n",
       "      <th>timestamp</th>\n",
       "      <th>title</th>\n",
       "      <th>genres</th>\n",
       "    </tr>\n",
       "  </thead>\n",
       "  <tbody>\n",
       "    <tr>\n",
       "      <th>0</th>\n",
       "      <td>1</td>\n",
       "      <td>31</td>\n",
       "      <td>2.5</td>\n",
       "      <td>1260759144</td>\n",
       "      <td>Dangerous Minds (1995)</td>\n",
       "      <td>Drama</td>\n",
       "    </tr>\n",
       "    <tr>\n",
       "      <th>1</th>\n",
       "      <td>7</td>\n",
       "      <td>31</td>\n",
       "      <td>3.0</td>\n",
       "      <td>851868750</td>\n",
       "      <td>Dangerous Minds (1995)</td>\n",
       "      <td>Drama</td>\n",
       "    </tr>\n",
       "    <tr>\n",
       "      <th>2</th>\n",
       "      <td>31</td>\n",
       "      <td>31</td>\n",
       "      <td>4.0</td>\n",
       "      <td>1273541953</td>\n",
       "      <td>Dangerous Minds (1995)</td>\n",
       "      <td>Drama</td>\n",
       "    </tr>\n",
       "    <tr>\n",
       "      <th>3</th>\n",
       "      <td>32</td>\n",
       "      <td>31</td>\n",
       "      <td>4.0</td>\n",
       "      <td>834828440</td>\n",
       "      <td>Dangerous Minds (1995)</td>\n",
       "      <td>Drama</td>\n",
       "    </tr>\n",
       "    <tr>\n",
       "      <th>4</th>\n",
       "      <td>36</td>\n",
       "      <td>31</td>\n",
       "      <td>3.0</td>\n",
       "      <td>847057202</td>\n",
       "      <td>Dangerous Minds (1995)</td>\n",
       "      <td>Drama</td>\n",
       "    </tr>\n",
       "  </tbody>\n",
       "</table>\n",
       "</div>"
      ],
      "text/plain": [
       "   userId  movieId  rating   timestamp                   title genres\n",
       "0       1       31     2.5  1260759144  Dangerous Minds (1995)  Drama\n",
       "1       7       31     3.0   851868750  Dangerous Minds (1995)  Drama\n",
       "2      31       31     4.0  1273541953  Dangerous Minds (1995)  Drama\n",
       "3      32       31     4.0   834828440  Dangerous Minds (1995)  Drama\n",
       "4      36       31     3.0   847057202  Dangerous Minds (1995)  Drama"
      ]
     },
     "execution_count": 6,
     "metadata": {},
     "output_type": "execute_result"
    }
   ],
   "source": [
    "movie_data = pd.merge(rating_data, movie_names, on='movieId')\n",
    "movie_data.head()"
   ]
  },
  {
   "cell_type": "markdown",
   "id": "b8986ff7-e192-401f-8a93-8b999282408a",
   "metadata": {},
   "source": [
    "## **Criteria** for Popularity Based Recommendation Systems\n",
    "The Criteria based on:\n",
    "1. Movies with highest rating\n",
    "2. Number of views\n",
    "\n",
    "### Average Ratings of movies\n",
    "Calculate the average of each movies' ratings.\n",
    "\n",
    "I group movie data by *title* and calculate the mean. Since we have a separate csv file for movie names, it is safe to perform *groupby* using *title* column because we know there are no any duplicates with subtle name changes."
   ]
  },
  {
   "cell_type": "code",
   "execution_count": 28,
   "id": "6de89b79-b9ec-435f-8007-931d821e2f50",
   "metadata": {},
   "outputs": [
    {
     "data": {
      "text/plain": [
       "title\n",
       "\"Great Performances\" Cats (1998)             1.750000\n",
       "$9.99 (2008)                                 3.833333\n",
       "'Hellboy': The Seeds of Creation (2004)      2.000000\n",
       "'Neath the Arizona Skies (1934)              0.500000\n",
       "'Round Midnight (1986)                       2.250000\n",
       "                                               ...   \n",
       "xXx (2002)                                   2.478261\n",
       "xXx: State of the Union (2005)               1.000000\n",
       "¡Three Amigos! (1986)                        3.258065\n",
       "À nous la liberté (Freedom for Us) (1931)    4.500000\n",
       "İtirazım Var (2014)                          3.500000\n",
       "Name: rating, Length: 9064, dtype: float64"
      ]
     },
     "execution_count": 28,
     "metadata": {},
     "output_type": "execute_result"
    }
   ],
   "source": [
    "average_ratings = movie_data.groupby('title')['rating'].mean()\n",
    "average_ratings"
   ]
  },
  {
   "cell_type": "markdown",
   "id": "b8d31678-8495-4af9-ac5c-d39534b4be03",
   "metadata": {},
   "source": [
    "Sort ratings by descending order"
   ]
  },
  {
   "cell_type": "markdown",
   "id": "9138f65a-7126-40ad-9fce-a9cfecb38067",
   "metadata": {},
   "source": [
    "average_ratings.sort_values(ascending=False)"
   ]
  },
  {
   "cell_type": "markdown",
   "id": "e5cf0d2c-fdd1-449d-9ca7-7c4e797e642a",
   "metadata": {},
   "source": [
    "## Rating count\n",
    "*Rating count* is very important when it comes to **Popularity** based recommendation systems.\n",
    "\n",
    "Because popular movies must be watched and rated high by majority of the people. We need to consider the rating count to observe that information."
   ]
  },
  {
   "cell_type": "code",
   "execution_count": 31,
   "id": "0d96e4c4-9c58-4948-94c6-3ce0b55d64ea",
   "metadata": {},
   "outputs": [
    {
     "data": {
      "text/plain": [
       "title\n",
       "Forrest Gump (1994)                                   341\n",
       "Pulp Fiction (1994)                                   324\n",
       "Shawshank Redemption, The (1994)                      311\n",
       "Silence of the Lambs, The (1991)                      304\n",
       "Star Wars: Episode IV - A New Hope (1977)             291\n",
       "                                                     ... \n",
       "Robin Williams: Weapons of Self Destruction (2009)      1\n",
       "Good German, The (2006)                                 1\n",
       "Good Earth, The (1937)                                  1\n",
       "Robot Overlords (2014)                                  1\n",
       "İtirazım Var (2014)                                     1\n",
       "Name: rating, Length: 9064, dtype: int64"
      ]
     },
     "execution_count": 31,
     "metadata": {},
     "output_type": "execute_result"
    }
   ],
   "source": [
    "rating_count = movie_data.groupby('title')['rating'].count().sort_values(ascending=False)\n",
    "rating_count"
   ]
  },
  {
   "cell_type": "markdown",
   "id": "bb5a1164-7008-43c9-a513-57cdb4f81cf7",
   "metadata": {},
   "source": [
    "## Prepare a *DataFrame* using *average* and *count*  values"
   ]
  },
  {
   "cell_type": "code",
   "execution_count": 33,
   "id": "d5b60453-3706-4a00-a390-96f3dc71feab",
   "metadata": {},
   "outputs": [
    {
     "data": {
      "text/html": [
       "<div>\n",
       "<style scoped>\n",
       "    .dataframe tbody tr th:only-of-type {\n",
       "        vertical-align: middle;\n",
       "    }\n",
       "\n",
       "    .dataframe tbody tr th {\n",
       "        vertical-align: top;\n",
       "    }\n",
       "\n",
       "    .dataframe thead th {\n",
       "        text-align: right;\n",
       "    }\n",
       "</style>\n",
       "<table border=\"1\" class=\"dataframe\">\n",
       "  <thead>\n",
       "    <tr style=\"text-align: right;\">\n",
       "      <th></th>\n",
       "      <th>rating</th>\n",
       "    </tr>\n",
       "    <tr>\n",
       "      <th>title</th>\n",
       "      <th></th>\n",
       "    </tr>\n",
       "  </thead>\n",
       "  <tbody>\n",
       "    <tr>\n",
       "      <th>\"Great Performances\" Cats (1998)</th>\n",
       "      <td>1.750000</td>\n",
       "    </tr>\n",
       "    <tr>\n",
       "      <th>$9.99 (2008)</th>\n",
       "      <td>3.833333</td>\n",
       "    </tr>\n",
       "    <tr>\n",
       "      <th>'Hellboy': The Seeds of Creation (2004)</th>\n",
       "      <td>2.000000</td>\n",
       "    </tr>\n",
       "    <tr>\n",
       "      <th>'Neath the Arizona Skies (1934)</th>\n",
       "      <td>0.500000</td>\n",
       "    </tr>\n",
       "    <tr>\n",
       "      <th>'Round Midnight (1986)</th>\n",
       "      <td>2.250000</td>\n",
       "    </tr>\n",
       "    <tr>\n",
       "      <th>...</th>\n",
       "      <td>...</td>\n",
       "    </tr>\n",
       "    <tr>\n",
       "      <th>xXx (2002)</th>\n",
       "      <td>2.478261</td>\n",
       "    </tr>\n",
       "    <tr>\n",
       "      <th>xXx: State of the Union (2005)</th>\n",
       "      <td>1.000000</td>\n",
       "    </tr>\n",
       "    <tr>\n",
       "      <th>¡Three Amigos! (1986)</th>\n",
       "      <td>3.258065</td>\n",
       "    </tr>\n",
       "    <tr>\n",
       "      <th>À nous la liberté (Freedom for Us) (1931)</th>\n",
       "      <td>4.500000</td>\n",
       "    </tr>\n",
       "    <tr>\n",
       "      <th>İtirazım Var (2014)</th>\n",
       "      <td>3.500000</td>\n",
       "    </tr>\n",
       "  </tbody>\n",
       "</table>\n",
       "<p>9064 rows × 1 columns</p>\n",
       "</div>"
      ],
      "text/plain": [
       "                                             rating\n",
       "title                                              \n",
       "\"Great Performances\" Cats (1998)           1.750000\n",
       "$9.99 (2008)                               3.833333\n",
       "'Hellboy': The Seeds of Creation (2004)    2.000000\n",
       "'Neath the Arizona Skies (1934)            0.500000\n",
       "'Round Midnight (1986)                     2.250000\n",
       "...                                             ...\n",
       "xXx (2002)                                 2.478261\n",
       "xXx: State of the Union (2005)             1.000000\n",
       "¡Three Amigos! (1986)                      3.258065\n",
       "À nous la liberté (Freedom for Us) (1931)  4.500000\n",
       "İtirazım Var (2014)                        3.500000\n",
       "\n",
       "[9064 rows x 1 columns]"
      ]
     },
     "execution_count": 33,
     "metadata": {},
     "output_type": "execute_result"
    }
   ],
   "source": [
    "rating_mean_count = pd.DataFrame(movie_data.groupby('title')['rating'].mean())\n",
    "rating_mean_count"
   ]
  },
  {
   "cell_type": "markdown",
   "id": "fb6180cd-9f9e-445a-aaf6-f837267665d3",
   "metadata": {},
   "source": [
    "### Now we add *rating counts* into the DataFrame"
   ]
  },
  {
   "cell_type": "code",
   "execution_count": 34,
   "id": "8cf77efa-8917-488b-8195-8373a76ece54",
   "metadata": {},
   "outputs": [
    {
     "data": {
      "text/html": [
       "<div>\n",
       "<style scoped>\n",
       "    .dataframe tbody tr th:only-of-type {\n",
       "        vertical-align: middle;\n",
       "    }\n",
       "\n",
       "    .dataframe tbody tr th {\n",
       "        vertical-align: top;\n",
       "    }\n",
       "\n",
       "    .dataframe thead th {\n",
       "        text-align: right;\n",
       "    }\n",
       "</style>\n",
       "<table border=\"1\" class=\"dataframe\">\n",
       "  <thead>\n",
       "    <tr style=\"text-align: right;\">\n",
       "      <th></th>\n",
       "      <th>rating</th>\n",
       "      <th>rating_counts</th>\n",
       "    </tr>\n",
       "    <tr>\n",
       "      <th>title</th>\n",
       "      <th></th>\n",
       "      <th></th>\n",
       "    </tr>\n",
       "  </thead>\n",
       "  <tbody>\n",
       "    <tr>\n",
       "      <th>\"Great Performances\" Cats (1998)</th>\n",
       "      <td>1.750000</td>\n",
       "      <td>2</td>\n",
       "    </tr>\n",
       "    <tr>\n",
       "      <th>$9.99 (2008)</th>\n",
       "      <td>3.833333</td>\n",
       "      <td>3</td>\n",
       "    </tr>\n",
       "    <tr>\n",
       "      <th>'Hellboy': The Seeds of Creation (2004)</th>\n",
       "      <td>2.000000</td>\n",
       "      <td>1</td>\n",
       "    </tr>\n",
       "    <tr>\n",
       "      <th>'Neath the Arizona Skies (1934)</th>\n",
       "      <td>0.500000</td>\n",
       "      <td>1</td>\n",
       "    </tr>\n",
       "    <tr>\n",
       "      <th>'Round Midnight (1986)</th>\n",
       "      <td>2.250000</td>\n",
       "      <td>2</td>\n",
       "    </tr>\n",
       "    <tr>\n",
       "      <th>...</th>\n",
       "      <td>...</td>\n",
       "      <td>...</td>\n",
       "    </tr>\n",
       "    <tr>\n",
       "      <th>xXx (2002)</th>\n",
       "      <td>2.478261</td>\n",
       "      <td>23</td>\n",
       "    </tr>\n",
       "    <tr>\n",
       "      <th>xXx: State of the Union (2005)</th>\n",
       "      <td>1.000000</td>\n",
       "      <td>1</td>\n",
       "    </tr>\n",
       "    <tr>\n",
       "      <th>¡Three Amigos! (1986)</th>\n",
       "      <td>3.258065</td>\n",
       "      <td>31</td>\n",
       "    </tr>\n",
       "    <tr>\n",
       "      <th>À nous la liberté (Freedom for Us) (1931)</th>\n",
       "      <td>4.500000</td>\n",
       "      <td>1</td>\n",
       "    </tr>\n",
       "    <tr>\n",
       "      <th>İtirazım Var (2014)</th>\n",
       "      <td>3.500000</td>\n",
       "      <td>1</td>\n",
       "    </tr>\n",
       "  </tbody>\n",
       "</table>\n",
       "<p>9064 rows × 2 columns</p>\n",
       "</div>"
      ],
      "text/plain": [
       "                                             rating  rating_counts\n",
       "title                                                             \n",
       "\"Great Performances\" Cats (1998)           1.750000              2\n",
       "$9.99 (2008)                               3.833333              3\n",
       "'Hellboy': The Seeds of Creation (2004)    2.000000              1\n",
       "'Neath the Arizona Skies (1934)            0.500000              1\n",
       "'Round Midnight (1986)                     2.250000              2\n",
       "...                                             ...            ...\n",
       "xXx (2002)                                 2.478261             23\n",
       "xXx: State of the Union (2005)             1.000000              1\n",
       "¡Three Amigos! (1986)                      3.258065             31\n",
       "À nous la liberté (Freedom for Us) (1931)  4.500000              1\n",
       "İtirazım Var (2014)                        3.500000              1\n",
       "\n",
       "[9064 rows x 2 columns]"
      ]
     },
     "execution_count": 34,
     "metadata": {},
     "output_type": "execute_result"
    }
   ],
   "source": [
    "rating_mean_count['rating_counts'] = movie_data.groupby('title')['rating'].count()\n",
    "rating_mean_count"
   ]
  },
  {
   "cell_type": "code",
   "execution_count": 35,
   "id": "09824fd4-6587-49f3-bc78-e8bd9426e423",
   "metadata": {},
   "outputs": [
    {
     "data": {
      "text/plain": [
       "rating           float64\n",
       "rating_counts      int64\n",
       "dtype: object"
      ]
     },
     "execution_count": 35,
     "metadata": {},
     "output_type": "execute_result"
    }
   ],
   "source": [
    "rating_mean_count.dtypes"
   ]
  },
  {
   "cell_type": "code",
   "execution_count": 36,
   "id": "021ec67b-5005-48ee-bbea-fe23e2caac65",
   "metadata": {},
   "outputs": [],
   "source": [
    "rating_mean_count['rating'] = round(rating_mean_count['rating'], 1)"
   ]
  },
  {
   "cell_type": "code",
   "execution_count": 37,
   "id": "e342d32f-f57f-4f4f-aec7-e0d21fed52f1",
   "metadata": {},
   "outputs": [
    {
     "data": {
      "text/html": [
       "<div>\n",
       "<style scoped>\n",
       "    .dataframe tbody tr th:only-of-type {\n",
       "        vertical-align: middle;\n",
       "    }\n",
       "\n",
       "    .dataframe tbody tr th {\n",
       "        vertical-align: top;\n",
       "    }\n",
       "\n",
       "    .dataframe thead th {\n",
       "        text-align: right;\n",
       "    }\n",
       "</style>\n",
       "<table border=\"1\" class=\"dataframe\">\n",
       "  <thead>\n",
       "    <tr style=\"text-align: right;\">\n",
       "      <th></th>\n",
       "      <th>rating</th>\n",
       "      <th>rating_counts</th>\n",
       "    </tr>\n",
       "    <tr>\n",
       "      <th>title</th>\n",
       "      <th></th>\n",
       "      <th></th>\n",
       "    </tr>\n",
       "  </thead>\n",
       "  <tbody>\n",
       "    <tr>\n",
       "      <th>\"Great Performances\" Cats (1998)</th>\n",
       "      <td>1.8</td>\n",
       "      <td>2</td>\n",
       "    </tr>\n",
       "    <tr>\n",
       "      <th>$9.99 (2008)</th>\n",
       "      <td>3.8</td>\n",
       "      <td>3</td>\n",
       "    </tr>\n",
       "    <tr>\n",
       "      <th>'Hellboy': The Seeds of Creation (2004)</th>\n",
       "      <td>2.0</td>\n",
       "      <td>1</td>\n",
       "    </tr>\n",
       "    <tr>\n",
       "      <th>'Neath the Arizona Skies (1934)</th>\n",
       "      <td>0.5</td>\n",
       "      <td>1</td>\n",
       "    </tr>\n",
       "    <tr>\n",
       "      <th>'Round Midnight (1986)</th>\n",
       "      <td>2.2</td>\n",
       "      <td>2</td>\n",
       "    </tr>\n",
       "    <tr>\n",
       "      <th>...</th>\n",
       "      <td>...</td>\n",
       "      <td>...</td>\n",
       "    </tr>\n",
       "    <tr>\n",
       "      <th>xXx (2002)</th>\n",
       "      <td>2.5</td>\n",
       "      <td>23</td>\n",
       "    </tr>\n",
       "    <tr>\n",
       "      <th>xXx: State of the Union (2005)</th>\n",
       "      <td>1.0</td>\n",
       "      <td>1</td>\n",
       "    </tr>\n",
       "    <tr>\n",
       "      <th>¡Three Amigos! (1986)</th>\n",
       "      <td>3.3</td>\n",
       "      <td>31</td>\n",
       "    </tr>\n",
       "    <tr>\n",
       "      <th>À nous la liberté (Freedom for Us) (1931)</th>\n",
       "      <td>4.5</td>\n",
       "      <td>1</td>\n",
       "    </tr>\n",
       "    <tr>\n",
       "      <th>İtirazım Var (2014)</th>\n",
       "      <td>3.5</td>\n",
       "      <td>1</td>\n",
       "    </tr>\n",
       "  </tbody>\n",
       "</table>\n",
       "<p>9064 rows × 2 columns</p>\n",
       "</div>"
      ],
      "text/plain": [
       "                                           rating  rating_counts\n",
       "title                                                           \n",
       "\"Great Performances\" Cats (1998)              1.8              2\n",
       "$9.99 (2008)                                  3.8              3\n",
       "'Hellboy': The Seeds of Creation (2004)       2.0              1\n",
       "'Neath the Arizona Skies (1934)               0.5              1\n",
       "'Round Midnight (1986)                        2.2              2\n",
       "...                                           ...            ...\n",
       "xXx (2002)                                    2.5             23\n",
       "xXx: State of the Union (2005)                1.0              1\n",
       "¡Three Amigos! (1986)                         3.3             31\n",
       "À nous la liberté (Freedom for Us) (1931)     4.5              1\n",
       "İtirazım Var (2014)                           3.5              1\n",
       "\n",
       "[9064 rows x 2 columns]"
      ]
     },
     "execution_count": 37,
     "metadata": {},
     "output_type": "execute_result"
    }
   ],
   "source": [
    "rating_mean_count"
   ]
  },
  {
   "cell_type": "markdown",
   "id": "0749ea8c-f9cb-4046-9e6a-3b58e1021aaf",
   "metadata": {},
   "source": [
    "### Apply our creteria we set earlier to decide a movie is popular or not"
   ]
  },
  {
   "cell_type": "code",
   "execution_count": 40,
   "id": "c02c65e1-9841-44e4-a65b-8f9bee383c6f",
   "metadata": {},
   "outputs": [
    {
     "data": {
      "text/html": [
       "<div>\n",
       "<style scoped>\n",
       "    .dataframe tbody tr th:only-of-type {\n",
       "        vertical-align: middle;\n",
       "    }\n",
       "\n",
       "    .dataframe tbody tr th {\n",
       "        vertical-align: top;\n",
       "    }\n",
       "\n",
       "    .dataframe thead th {\n",
       "        text-align: right;\n",
       "    }\n",
       "</style>\n",
       "<table border=\"1\" class=\"dataframe\">\n",
       "  <thead>\n",
       "    <tr style=\"text-align: right;\">\n",
       "      <th></th>\n",
       "      <th>rating</th>\n",
       "      <th>rating_counts</th>\n",
       "    </tr>\n",
       "    <tr>\n",
       "      <th>title</th>\n",
       "      <th></th>\n",
       "      <th></th>\n",
       "    </tr>\n",
       "  </thead>\n",
       "  <tbody>\n",
       "    <tr>\n",
       "      <th>Amelie (Fabuleux destin d'Amélie Poulain, Le) (2001)</th>\n",
       "      <td>4.1</td>\n",
       "      <td>125</td>\n",
       "    </tr>\n",
       "    <tr>\n",
       "      <th>American Beauty (1999)</th>\n",
       "      <td>4.2</td>\n",
       "      <td>220</td>\n",
       "    </tr>\n",
       "    <tr>\n",
       "      <th>Apocalypse Now (1979)</th>\n",
       "      <td>4.1</td>\n",
       "      <td>112</td>\n",
       "    </tr>\n",
       "    <tr>\n",
       "      <th>Casablanca (1942)</th>\n",
       "      <td>4.2</td>\n",
       "      <td>117</td>\n",
       "    </tr>\n",
       "    <tr>\n",
       "      <th>Dark Knight, The (2008)</th>\n",
       "      <td>4.2</td>\n",
       "      <td>121</td>\n",
       "    </tr>\n",
       "  </tbody>\n",
       "</table>\n",
       "</div>"
      ],
      "text/plain": [
       "                                                    rating  rating_counts\n",
       "title                                                                    \n",
       "Amelie (Fabuleux destin d'Amélie Poulain, Le) (...     4.1            125\n",
       "American Beauty (1999)                                 4.2            220\n",
       "Apocalypse Now (1979)                                  4.1            112\n",
       "Casablanca (1942)                                      4.2            117\n",
       "Dark Knight, The (2008)                                4.2            121"
      ]
     },
     "execution_count": 40,
     "metadata": {},
     "output_type": "execute_result"
    }
   ],
   "source": [
    "rating_threshold = 4\n",
    "view_count_threshold = 100\n",
    "\n",
    "popular_movies = rating_mean_count[(rating_mean_count['rating'] > rating_threshold) & (rating_mean_count['rating_counts'] > view_count_threshold)]\n",
    "popular_movies.head()"
   ]
  },
  {
   "cell_type": "markdown",
   "id": "5e995bd0-a42e-451d-9ad7-791a8d39c674",
   "metadata": {},
   "source": [
    "## Top 10 movies all the time"
   ]
  },
  {
   "cell_type": "code",
   "execution_count": 41,
   "id": "009b1a47-0549-4c99-8c69-b48796e5ed77",
   "metadata": {},
   "outputs": [
    {
     "data": {
      "text/html": [
       "<div>\n",
       "<style scoped>\n",
       "    .dataframe tbody tr th:only-of-type {\n",
       "        vertical-align: middle;\n",
       "    }\n",
       "\n",
       "    .dataframe tbody tr th {\n",
       "        vertical-align: top;\n",
       "    }\n",
       "\n",
       "    .dataframe thead th {\n",
       "        text-align: right;\n",
       "    }\n",
       "</style>\n",
       "<table border=\"1\" class=\"dataframe\">\n",
       "  <thead>\n",
       "    <tr style=\"text-align: right;\">\n",
       "      <th></th>\n",
       "      <th>rating</th>\n",
       "      <th>rating_counts</th>\n",
       "    </tr>\n",
       "    <tr>\n",
       "      <th>title</th>\n",
       "      <th></th>\n",
       "      <th></th>\n",
       "    </tr>\n",
       "  </thead>\n",
       "  <tbody>\n",
       "    <tr>\n",
       "      <th>Shawshank Redemption, The (1994)</th>\n",
       "      <td>4.5</td>\n",
       "      <td>311</td>\n",
       "    </tr>\n",
       "    <tr>\n",
       "      <th>Godfather, The (1972)</th>\n",
       "      <td>4.5</td>\n",
       "      <td>200</td>\n",
       "    </tr>\n",
       "    <tr>\n",
       "      <th>Usual Suspects, The (1995)</th>\n",
       "      <td>4.4</td>\n",
       "      <td>201</td>\n",
       "    </tr>\n",
       "    <tr>\n",
       "      <th>Godfather: Part II, The (1974)</th>\n",
       "      <td>4.4</td>\n",
       "      <td>135</td>\n",
       "    </tr>\n",
       "    <tr>\n",
       "      <th>Fargo (1996)</th>\n",
       "      <td>4.3</td>\n",
       "      <td>224</td>\n",
       "    </tr>\n",
       "    <tr>\n",
       "      <th>Pulp Fiction (1994)</th>\n",
       "      <td>4.3</td>\n",
       "      <td>324</td>\n",
       "    </tr>\n",
       "    <tr>\n",
       "      <th>One Flew Over the Cuckoo's Nest (1975)</th>\n",
       "      <td>4.3</td>\n",
       "      <td>144</td>\n",
       "    </tr>\n",
       "    <tr>\n",
       "      <th>Schindler's List (1993)</th>\n",
       "      <td>4.3</td>\n",
       "      <td>244</td>\n",
       "    </tr>\n",
       "    <tr>\n",
       "      <th>Fight Club (1999)</th>\n",
       "      <td>4.2</td>\n",
       "      <td>202</td>\n",
       "    </tr>\n",
       "    <tr>\n",
       "      <th>Matrix, The (1999)</th>\n",
       "      <td>4.2</td>\n",
       "      <td>259</td>\n",
       "    </tr>\n",
       "  </tbody>\n",
       "</table>\n",
       "</div>"
      ],
      "text/plain": [
       "                                        rating  rating_counts\n",
       "title                                                        \n",
       "Shawshank Redemption, The (1994)           4.5            311\n",
       "Godfather, The (1972)                      4.5            200\n",
       "Usual Suspects, The (1995)                 4.4            201\n",
       "Godfather: Part II, The (1974)             4.4            135\n",
       "Fargo (1996)                               4.3            224\n",
       "Pulp Fiction (1994)                        4.3            324\n",
       "One Flew Over the Cuckoo's Nest (1975)     4.3            144\n",
       "Schindler's List (1993)                    4.3            244\n",
       "Fight Club (1999)                          4.2            202\n",
       "Matrix, The (1999)                         4.2            259"
      ]
     },
     "execution_count": 41,
     "metadata": {},
     "output_type": "execute_result"
    }
   ],
   "source": [
    "popular_movies.sort_values(by='rating', ascending=False).head(10)"
   ]
  },
  {
   "cell_type": "markdown",
   "id": "5f926329-e3fb-4f71-8165-1c46dd8bc1a8",
   "metadata": {},
   "source": [
    "### Above result will show **Netflix** Recommendations as follows."
   ]
  },
  {
   "attachments": {
    "6cb106aa-546d-4632-8663-f230d10b5e43.jpg": {
     "image/jpeg": "[encoded data removed]"
    }
   },
   "cell_type": "markdown",
   "id": "4a2e9e6e",
   "metadata": {},
   "source": [
    "![top_10.jpg](attachment:6cb106aa-546d-4632-8663-f230d10b5e43.jpg)"
   ]
  },
  {
   "cell_type": "markdown",
   "id": "c66e8b16",
   "metadata": {},
   "source": [
    "#below is another example of 2023 top 10 just for reference."
   ]
  },
  {
   "cell_type": "markdown",
   "id": "ec164e82",
   "metadata": {},
   "source": [
    "![](top10-films-english.webp)"
   ]
  },
  {
   "cell_type": "code",
   "execution_count": null,
   "id": "3949821e",
   "metadata": {},
   "outputs": [],
   "source": []
  }
 ],
 "metadata": {
  "kernelspec": {
   "display_name": "Python 3 (ipykernel)",
   "language": "python",
   "name": "python3"
  },
  "language_info": {
   "codemirror_mode": {
    "name": "ipython",
    "version": 3
   },
   "file_extension": ".py",
   "mimetype": "text/x-python",
   "name": "python",
   "nbconvert_exporter": "python",
   "pygments_lexer": "ipython3",
   "version": "3.11.5"
  }
 },
 "nbformat": 4,
 "nbformat_minor": 5
}
